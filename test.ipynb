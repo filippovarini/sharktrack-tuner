{
 "cells": [
  {
   "cell_type": "code",
   "execution_count": 1,
   "metadata": {},
   "outputs": [],
   "source": [
    "import pandas as pd\n",
    "from pathlib import Path"
   ]
  },
  {
   "cell_type": "code",
   "execution_count": 18,
   "metadata": {},
   "outputs": [],
   "source": [
    "revilla = Path(\"/Volumes/Expansion/Expedicion Revillagigedo/\")\n",
    "all_videos = revilla.rglob(\"*[Mm][Pp]4\")\n",
    "folders = set()\n",
    "for video_path in all_videos:\n",
    "    folders.add(str(video_path.parents[0]))\n",
    "folders_df = pd.DataFrame([{\"folder\": f} for f in folders])\n",
    "folders_df.to_csv(\"folders.csv\", index=False)"
   ]
  }
 ],
 "metadata": {
  "kernelspec": {
   "display_name": "venv",
   "language": "python",
   "name": "python3"
  },
  "language_info": {
   "codemirror_mode": {
    "name": "ipython",
    "version": 3
   },
   "file_extension": ".py",
   "mimetype": "text/x-python",
   "name": "python",
   "nbconvert_exporter": "python",
   "pygments_lexer": "ipython3",
   "version": "3.10.12"
  }
 },
 "nbformat": 4,
 "nbformat_minor": 2
}
