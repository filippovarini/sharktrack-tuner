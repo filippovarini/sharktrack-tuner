{
 "cells": [
  {
   "cell_type": "code",
   "execution_count": 1,
   "metadata": {},
   "outputs": [],
   "source": [
    "import pandas as pd\n",
    "import os\n",
    "\n",
    "# load output.csv file\n",
    "output_df = pd.read_csv('output.csv')"
   ]
  },
  {
   "cell_type": "code",
   "execution_count": null,
   "metadata": {},
   "outputs": [],
   "source": [
    "# path to directory where we can download all the image annotations\n",
    "image_annotations_dir = 'path_to_image_annotations'\n",
    "\n",
    "# extract species info from the filenames (e.g. 'great_white' from 1-great_white.jpg)\n",
    "annotations = {}\n",
    "for filename in os.listdir(image_annotations_dir):\n",
    "\tif '-' in filename:\n",
    "\t\ttrack_id, species = filename.split('.')[0].split('-')\n",
    "\t\tannotations[track_id] = species"
   ]
  },
  {
   "cell_type": "code",
   "execution_count": null,
   "metadata": {},
   "outputs": [],
   "source": [
    "# update the output_df with species info\n",
    "output_df['species'] = output_df['track_id'].map(annotations)\n",
    "\n",
    "# save the updated output_df\n",
    "output_df.to_csv('output_with_species.csv', index=False)"
   ]
  }
 ],
 "metadata": {
  "kernelspec": {
   "display_name": "venv",
   "language": "python",
   "name": "python3"
  },
  "language_info": {
   "codemirror_mode": {
    "name": "ipython",
    "version": 3
   },
   "file_extension": ".py",
   "mimetype": "text/x-python",
   "name": "python",
   "nbconvert_exporter": "python",
   "pygments_lexer": "ipython3",
   "version": "3.12.2"
  }
 },
 "nbformat": 4,
 "nbformat_minor": 2
}
