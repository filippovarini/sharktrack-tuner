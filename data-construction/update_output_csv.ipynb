{
 "cells": [
  {
   "cell_type": "code",
   "execution_count": null,
   "metadata": {},
   "outputs": [],
   "source": [
    "import pandas as pd\n",
    "\n",
    "output_df = pd.read_csv('updated_output.csv')\n",
    "\n",
    "log_df = pd.read_csv('log.csv')"
   ]
  },
  {
   "cell_type": "code",
   "execution_count": null,
   "metadata": {},
   "outputs": [],
   "source": [
    "def filter_used_sightings(output_df, log_df):\n",
    "\t# create set of used sightings\n",
    "\tused_sightings = set((row['video_path'], row['time']) for _, row in log_df.iterrows())\n",
    "\n",
    "\t# filter out used sightings\n",
    "\tfiltered_df = output_df[~output_df.apply(lambda row: (row['video_path'], row['time']) in used_sightings, axis=1)]\n",
    "\t\n",
    "\treturn filtered_df"
   ]
  },
  {
   "cell_type": "code",
   "execution_count": null,
   "metadata": {},
   "outputs": [],
   "source": [
    "filtered_df = filter_used_sightings(output_df, log_df)\n",
    "filtered_df.to_csv('filtered_output.csv', index=False)"
   ]
  }
 ],
 "metadata": {
  "language_info": {
   "name": "python"
  }
 },
 "nbformat": 4,
 "nbformat_minor": 2
}
